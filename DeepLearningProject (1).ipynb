{
  "nbformat": 4,
  "nbformat_minor": 0,
  "metadata": {
    "colab": {
      "provenance": []
    },
    "kernelspec": {
      "name": "python3",
      "display_name": "Python 3"
    },
    "language_info": {
      "name": "python"
    }
  },
  "cells": [
    {
      "cell_type": "markdown",
      "source": [
        "# DEEP LEARNING PROJECT OF GROUP STUDENTS"
      ],
      "metadata": {
        "id": "vu3mnU7la3P2"
      }
    },
    {
      "cell_type": "markdown",
      "source": [
        "## A project on breast cancer prediction using neural networks"
      ],
      "metadata": {
        "id": "4n3JK0KZa3DM"
      }
    },
    {
      "cell_type": "markdown",
      "source": [
        "Description : We are using the Wisconcin breast cancer data set to predict whether a woman has breast cancer or not. We have two classes \"malign\" and \"benign\" denoted as M and B respectively. We will be using pytorch which is an open-source machine learning library widely used for deep learning and artificial intelligence applications"
      ],
      "metadata": {
        "id": "01Y7zsrpa2rY"
      }
    },
    {
      "cell_type": "markdown",
      "source": [
        "## Importation of libraries"
      ],
      "metadata": {
        "id": "j-1SF02IbmVG"
      }
    },
    {
      "cell_type": "code",
      "execution_count": 658,
      "metadata": {
        "id": "-vfMCSqfD9v_"
      },
      "outputs": [],
      "source": [
        "import torch\n",
        "import torch.nn as nn\n",
        "import torch.optim as optim\n",
        "import matplotlib.pyplot as plt\n",
        "from sklearn.model_selection import train_test_split\n",
        "from sklearn.preprocessing import StandardScaler, LabelEncoder\n",
        "from torch.utils.data import DataLoader, TensorDataset"
      ]
    },
    {
      "cell_type": "markdown",
      "source": [
        "## Importation of dataset"
      ],
      "metadata": {
        "id": "CtnPgdzvbvT5"
      }
    },
    {
      "cell_type": "code",
      "source": [
        "from google.colab import files\n",
        "uploaded = files.upload()"
      ],
      "metadata": {
        "colab": {
          "base_uri": "https://localhost:8080/",
          "height": 73
        },
        "id": "vDadB3SrEIO3",
        "outputId": "5bbdba21-4419-49ba-9524-6394a99f1a36"
      },
      "execution_count": 659,
      "outputs": [
        {
          "output_type": "display_data",
          "data": {
            "text/plain": [
              "<IPython.core.display.HTML object>"
            ],
            "text/html": [
              "\n",
              "     <input type=\"file\" id=\"files-0b746d5b-2e1c-46ee-a42f-9c3aed2d7826\" name=\"files[]\" multiple disabled\n",
              "        style=\"border:none\" />\n",
              "     <output id=\"result-0b746d5b-2e1c-46ee-a42f-9c3aed2d7826\">\n",
              "      Upload widget is only available when the cell has been executed in the\n",
              "      current browser session. Please rerun this cell to enable.\n",
              "      </output>\n",
              "      <script>// Copyright 2017 Google LLC\n",
              "//\n",
              "// Licensed under the Apache License, Version 2.0 (the \"License\");\n",
              "// you may not use this file except in compliance with the License.\n",
              "// You may obtain a copy of the License at\n",
              "//\n",
              "//      http://www.apache.org/licenses/LICENSE-2.0\n",
              "//\n",
              "// Unless required by applicable law or agreed to in writing, software\n",
              "// distributed under the License is distributed on an \"AS IS\" BASIS,\n",
              "// WITHOUT WARRANTIES OR CONDITIONS OF ANY KIND, either express or implied.\n",
              "// See the License for the specific language governing permissions and\n",
              "// limitations under the License.\n",
              "\n",
              "/**\n",
              " * @fileoverview Helpers for google.colab Python module.\n",
              " */\n",
              "(function(scope) {\n",
              "function span(text, styleAttributes = {}) {\n",
              "  const element = document.createElement('span');\n",
              "  element.textContent = text;\n",
              "  for (const key of Object.keys(styleAttributes)) {\n",
              "    element.style[key] = styleAttributes[key];\n",
              "  }\n",
              "  return element;\n",
              "}\n",
              "\n",
              "// Max number of bytes which will be uploaded at a time.\n",
              "const MAX_PAYLOAD_SIZE = 100 * 1024;\n",
              "\n",
              "function _uploadFiles(inputId, outputId) {\n",
              "  const steps = uploadFilesStep(inputId, outputId);\n",
              "  const outputElement = document.getElementById(outputId);\n",
              "  // Cache steps on the outputElement to make it available for the next call\n",
              "  // to uploadFilesContinue from Python.\n",
              "  outputElement.steps = steps;\n",
              "\n",
              "  return _uploadFilesContinue(outputId);\n",
              "}\n",
              "\n",
              "// This is roughly an async generator (not supported in the browser yet),\n",
              "// where there are multiple asynchronous steps and the Python side is going\n",
              "// to poll for completion of each step.\n",
              "// This uses a Promise to block the python side on completion of each step,\n",
              "// then passes the result of the previous step as the input to the next step.\n",
              "function _uploadFilesContinue(outputId) {\n",
              "  const outputElement = document.getElementById(outputId);\n",
              "  const steps = outputElement.steps;\n",
              "\n",
              "  const next = steps.next(outputElement.lastPromiseValue);\n",
              "  return Promise.resolve(next.value.promise).then((value) => {\n",
              "    // Cache the last promise value to make it available to the next\n",
              "    // step of the generator.\n",
              "    outputElement.lastPromiseValue = value;\n",
              "    return next.value.response;\n",
              "  });\n",
              "}\n",
              "\n",
              "/**\n",
              " * Generator function which is called between each async step of the upload\n",
              " * process.\n",
              " * @param {string} inputId Element ID of the input file picker element.\n",
              " * @param {string} outputId Element ID of the output display.\n",
              " * @return {!Iterable<!Object>} Iterable of next steps.\n",
              " */\n",
              "function* uploadFilesStep(inputId, outputId) {\n",
              "  const inputElement = document.getElementById(inputId);\n",
              "  inputElement.disabled = false;\n",
              "\n",
              "  const outputElement = document.getElementById(outputId);\n",
              "  outputElement.innerHTML = '';\n",
              "\n",
              "  const pickedPromise = new Promise((resolve) => {\n",
              "    inputElement.addEventListener('change', (e) => {\n",
              "      resolve(e.target.files);\n",
              "    });\n",
              "  });\n",
              "\n",
              "  const cancel = document.createElement('button');\n",
              "  inputElement.parentElement.appendChild(cancel);\n",
              "  cancel.textContent = 'Cancel upload';\n",
              "  const cancelPromise = new Promise((resolve) => {\n",
              "    cancel.onclick = () => {\n",
              "      resolve(null);\n",
              "    };\n",
              "  });\n",
              "\n",
              "  // Wait for the user to pick the files.\n",
              "  const files = yield {\n",
              "    promise: Promise.race([pickedPromise, cancelPromise]),\n",
              "    response: {\n",
              "      action: 'starting',\n",
              "    }\n",
              "  };\n",
              "\n",
              "  cancel.remove();\n",
              "\n",
              "  // Disable the input element since further picks are not allowed.\n",
              "  inputElement.disabled = true;\n",
              "\n",
              "  if (!files) {\n",
              "    return {\n",
              "      response: {\n",
              "        action: 'complete',\n",
              "      }\n",
              "    };\n",
              "  }\n",
              "\n",
              "  for (const file of files) {\n",
              "    const li = document.createElement('li');\n",
              "    li.append(span(file.name, {fontWeight: 'bold'}));\n",
              "    li.append(span(\n",
              "        `(${file.type || 'n/a'}) - ${file.size} bytes, ` +\n",
              "        `last modified: ${\n",
              "            file.lastModifiedDate ? file.lastModifiedDate.toLocaleDateString() :\n",
              "                                    'n/a'} - `));\n",
              "    const percent = span('0% done');\n",
              "    li.appendChild(percent);\n",
              "\n",
              "    outputElement.appendChild(li);\n",
              "\n",
              "    const fileDataPromise = new Promise((resolve) => {\n",
              "      const reader = new FileReader();\n",
              "      reader.onload = (e) => {\n",
              "        resolve(e.target.result);\n",
              "      };\n",
              "      reader.readAsArrayBuffer(file);\n",
              "    });\n",
              "    // Wait for the data to be ready.\n",
              "    let fileData = yield {\n",
              "      promise: fileDataPromise,\n",
              "      response: {\n",
              "        action: 'continue',\n",
              "      }\n",
              "    };\n",
              "\n",
              "    // Use a chunked sending to avoid message size limits. See b/62115660.\n",
              "    let position = 0;\n",
              "    do {\n",
              "      const length = Math.min(fileData.byteLength - position, MAX_PAYLOAD_SIZE);\n",
              "      const chunk = new Uint8Array(fileData, position, length);\n",
              "      position += length;\n",
              "\n",
              "      const base64 = btoa(String.fromCharCode.apply(null, chunk));\n",
              "      yield {\n",
              "        response: {\n",
              "          action: 'append',\n",
              "          file: file.name,\n",
              "          data: base64,\n",
              "        },\n",
              "      };\n",
              "\n",
              "      let percentDone = fileData.byteLength === 0 ?\n",
              "          100 :\n",
              "          Math.round((position / fileData.byteLength) * 100);\n",
              "      percent.textContent = `${percentDone}% done`;\n",
              "\n",
              "    } while (position < fileData.byteLength);\n",
              "  }\n",
              "\n",
              "  // All done.\n",
              "  yield {\n",
              "    response: {\n",
              "      action: 'complete',\n",
              "    }\n",
              "  };\n",
              "}\n",
              "\n",
              "scope.google = scope.google || {};\n",
              "scope.google.colab = scope.google.colab || {};\n",
              "scope.google.colab._files = {\n",
              "  _uploadFiles,\n",
              "  _uploadFilesContinue,\n",
              "};\n",
              "})(self);\n",
              "</script> "
            ]
          },
          "metadata": {}
        },
        {
          "output_type": "stream",
          "name": "stdout",
          "text": [
            "Saving new_dataset.csv to new_dataset (20).csv\n"
          ]
        }
      ]
    },
    {
      "cell_type": "code",
      "source": [
        "import pandas as pd\n",
        "\n",
        "# Input the name of your uploaded CSV file\n",
        "df = pd.read_csv('new_dataset.csv')"
      ],
      "metadata": {
        "id": "Or1oOUAuEYgY"
      },
      "execution_count": 660,
      "outputs": []
    },
    {
      "cell_type": "markdown",
      "source": [
        "## Exploratory Data Analysis"
      ],
      "metadata": {
        "id": "3XQShpdVb4BE"
      }
    },
    {
      "cell_type": "code",
      "source": [
        "df.head()"
      ],
      "metadata": {
        "colab": {
          "base_uri": "https://localhost:8080/",
          "height": 273
        },
        "id": "YsLHuQhDEm7H",
        "outputId": "25a8597b-96a1-4f6d-d26f-955705c64ab5"
      },
      "execution_count": 661,
      "outputs": [
        {
          "output_type": "execute_result",
          "data": {
            "text/plain": [
              "             id  radius_mean  texture_mean  perimeter_mean   area_mean  \\\n",
              "0  8.673870e+05    15.717589     13.925797      101.995130  761.692582   \n",
              "1  8.911840e+06    16.905135     21.017290      111.318854  881.374048   \n",
              "2  8.716420e+05    10.657321     15.154916       67.497532  349.594549   \n",
              "3  8.986900e+05    11.470000     16.030000       73.020000  402.700000   \n",
              "4  8.956330e+05    16.260000     21.880000      107.500000  826.800000   \n",
              "\n",
              "   smoothness_mean  compactness_mean  concavity_mean  concave points_mean  \\\n",
              "0         0.102033          0.089767        0.068461             0.059152   \n",
              "1         0.099496          0.136935        0.140562             0.073565   \n",
              "2         0.095205          0.037134        0.007218            -0.001911   \n",
              "3         0.090760          0.058860        0.025870             0.023220   \n",
              "4         0.116500          0.128300        0.179900             0.079810   \n",
              "\n",
              "   symmetry_mean  ...  texture_worst  perimeter_worst   area_worst  \\\n",
              "0       0.183014  ...      19.256836       114.302611   922.806106   \n",
              "1       0.174297  ...      28.868281       130.127282  1144.742002   \n",
              "2       0.200137  ...      19.196990        73.196632   408.299146   \n",
              "3       0.163400  ...      20.790000        79.670000   475.800000   \n",
              "4       0.186900  ...      25.210000       113.700000   975.200000   \n",
              "\n",
              "   smoothness_worst  compactness_worst  concavity_worst  concave points_worst  \\\n",
              "0          0.113516           0.197146         0.167213              0.135796   \n",
              "1          0.134532           0.356464         0.386654              0.149743   \n",
              "2          0.101096           0.070239        -0.006282             -0.004487   \n",
              "3          0.153100           0.112000         0.098230              0.065480   \n",
              "4          0.142600           0.211600         0.334400              0.104700   \n",
              "\n",
              "   symmetry_worst  fractal_dimension_worst  diagnosis  \n",
              "0        0.265638                 0.074047          B  \n",
              "1        0.266531                 0.095744          M  \n",
              "2        0.273664                 0.067209          B  \n",
              "3        0.285100                 0.087630          B  \n",
              "4        0.273600                 0.079530          M  \n",
              "\n",
              "[5 rows x 32 columns]"
            ],
            "text/html": [
              "\n",
              "  <div id=\"df-b3340fbb-0181-41a7-8e9c-320f16e5ada6\" class=\"colab-df-container\">\n",
              "    <div>\n",
              "<style scoped>\n",
              "    .dataframe tbody tr th:only-of-type {\n",
              "        vertical-align: middle;\n",
              "    }\n",
              "\n",
              "    .dataframe tbody tr th {\n",
              "        vertical-align: top;\n",
              "    }\n",
              "\n",
              "    .dataframe thead th {\n",
              "        text-align: right;\n",
              "    }\n",
              "</style>\n",
              "<table border=\"1\" class=\"dataframe\">\n",
              "  <thead>\n",
              "    <tr style=\"text-align: right;\">\n",
              "      <th></th>\n",
              "      <th>id</th>\n",
              "      <th>radius_mean</th>\n",
              "      <th>texture_mean</th>\n",
              "      <th>perimeter_mean</th>\n",
              "      <th>area_mean</th>\n",
              "      <th>smoothness_mean</th>\n",
              "      <th>compactness_mean</th>\n",
              "      <th>concavity_mean</th>\n",
              "      <th>concave points_mean</th>\n",
              "      <th>symmetry_mean</th>\n",
              "      <th>...</th>\n",
              "      <th>texture_worst</th>\n",
              "      <th>perimeter_worst</th>\n",
              "      <th>area_worst</th>\n",
              "      <th>smoothness_worst</th>\n",
              "      <th>compactness_worst</th>\n",
              "      <th>concavity_worst</th>\n",
              "      <th>concave points_worst</th>\n",
              "      <th>symmetry_worst</th>\n",
              "      <th>fractal_dimension_worst</th>\n",
              "      <th>diagnosis</th>\n",
              "    </tr>\n",
              "  </thead>\n",
              "  <tbody>\n",
              "    <tr>\n",
              "      <th>0</th>\n",
              "      <td>8.673870e+05</td>\n",
              "      <td>15.717589</td>\n",
              "      <td>13.925797</td>\n",
              "      <td>101.995130</td>\n",
              "      <td>761.692582</td>\n",
              "      <td>0.102033</td>\n",
              "      <td>0.089767</td>\n",
              "      <td>0.068461</td>\n",
              "      <td>0.059152</td>\n",
              "      <td>0.183014</td>\n",
              "      <td>...</td>\n",
              "      <td>19.256836</td>\n",
              "      <td>114.302611</td>\n",
              "      <td>922.806106</td>\n",
              "      <td>0.113516</td>\n",
              "      <td>0.197146</td>\n",
              "      <td>0.167213</td>\n",
              "      <td>0.135796</td>\n",
              "      <td>0.265638</td>\n",
              "      <td>0.074047</td>\n",
              "      <td>B</td>\n",
              "    </tr>\n",
              "    <tr>\n",
              "      <th>1</th>\n",
              "      <td>8.911840e+06</td>\n",
              "      <td>16.905135</td>\n",
              "      <td>21.017290</td>\n",
              "      <td>111.318854</td>\n",
              "      <td>881.374048</td>\n",
              "      <td>0.099496</td>\n",
              "      <td>0.136935</td>\n",
              "      <td>0.140562</td>\n",
              "      <td>0.073565</td>\n",
              "      <td>0.174297</td>\n",
              "      <td>...</td>\n",
              "      <td>28.868281</td>\n",
              "      <td>130.127282</td>\n",
              "      <td>1144.742002</td>\n",
              "      <td>0.134532</td>\n",
              "      <td>0.356464</td>\n",
              "      <td>0.386654</td>\n",
              "      <td>0.149743</td>\n",
              "      <td>0.266531</td>\n",
              "      <td>0.095744</td>\n",
              "      <td>M</td>\n",
              "    </tr>\n",
              "    <tr>\n",
              "      <th>2</th>\n",
              "      <td>8.716420e+05</td>\n",
              "      <td>10.657321</td>\n",
              "      <td>15.154916</td>\n",
              "      <td>67.497532</td>\n",
              "      <td>349.594549</td>\n",
              "      <td>0.095205</td>\n",
              "      <td>0.037134</td>\n",
              "      <td>0.007218</td>\n",
              "      <td>-0.001911</td>\n",
              "      <td>0.200137</td>\n",
              "      <td>...</td>\n",
              "      <td>19.196990</td>\n",
              "      <td>73.196632</td>\n",
              "      <td>408.299146</td>\n",
              "      <td>0.101096</td>\n",
              "      <td>0.070239</td>\n",
              "      <td>-0.006282</td>\n",
              "      <td>-0.004487</td>\n",
              "      <td>0.273664</td>\n",
              "      <td>0.067209</td>\n",
              "      <td>B</td>\n",
              "    </tr>\n",
              "    <tr>\n",
              "      <th>3</th>\n",
              "      <td>8.986900e+05</td>\n",
              "      <td>11.470000</td>\n",
              "      <td>16.030000</td>\n",
              "      <td>73.020000</td>\n",
              "      <td>402.700000</td>\n",
              "      <td>0.090760</td>\n",
              "      <td>0.058860</td>\n",
              "      <td>0.025870</td>\n",
              "      <td>0.023220</td>\n",
              "      <td>0.163400</td>\n",
              "      <td>...</td>\n",
              "      <td>20.790000</td>\n",
              "      <td>79.670000</td>\n",
              "      <td>475.800000</td>\n",
              "      <td>0.153100</td>\n",
              "      <td>0.112000</td>\n",
              "      <td>0.098230</td>\n",
              "      <td>0.065480</td>\n",
              "      <td>0.285100</td>\n",
              "      <td>0.087630</td>\n",
              "      <td>B</td>\n",
              "    </tr>\n",
              "    <tr>\n",
              "      <th>4</th>\n",
              "      <td>8.956330e+05</td>\n",
              "      <td>16.260000</td>\n",
              "      <td>21.880000</td>\n",
              "      <td>107.500000</td>\n",
              "      <td>826.800000</td>\n",
              "      <td>0.116500</td>\n",
              "      <td>0.128300</td>\n",
              "      <td>0.179900</td>\n",
              "      <td>0.079810</td>\n",
              "      <td>0.186900</td>\n",
              "      <td>...</td>\n",
              "      <td>25.210000</td>\n",
              "      <td>113.700000</td>\n",
              "      <td>975.200000</td>\n",
              "      <td>0.142600</td>\n",
              "      <td>0.211600</td>\n",
              "      <td>0.334400</td>\n",
              "      <td>0.104700</td>\n",
              "      <td>0.273600</td>\n",
              "      <td>0.079530</td>\n",
              "      <td>M</td>\n",
              "    </tr>\n",
              "  </tbody>\n",
              "</table>\n",
              "<p>5 rows × 32 columns</p>\n",
              "</div>\n",
              "    <div class=\"colab-df-buttons\">\n",
              "\n",
              "  <div class=\"colab-df-container\">\n",
              "    <button class=\"colab-df-convert\" onclick=\"convertToInteractive('df-b3340fbb-0181-41a7-8e9c-320f16e5ada6')\"\n",
              "            title=\"Convert this dataframe to an interactive table.\"\n",
              "            style=\"display:none;\">\n",
              "\n",
              "  <svg xmlns=\"http://www.w3.org/2000/svg\" height=\"24px\" viewBox=\"0 -960 960 960\">\n",
              "    <path d=\"M120-120v-720h720v720H120Zm60-500h600v-160H180v160Zm220 220h160v-160H400v160Zm0 220h160v-160H400v160ZM180-400h160v-160H180v160Zm440 0h160v-160H620v160ZM180-180h160v-160H180v160Zm440 0h160v-160H620v160Z\"/>\n",
              "  </svg>\n",
              "    </button>\n",
              "\n",
              "  <style>\n",
              "    .colab-df-container {\n",
              "      display:flex;\n",
              "      gap: 12px;\n",
              "    }\n",
              "\n",
              "    .colab-df-convert {\n",
              "      background-color: #E8F0FE;\n",
              "      border: none;\n",
              "      border-radius: 50%;\n",
              "      cursor: pointer;\n",
              "      display: none;\n",
              "      fill: #1967D2;\n",
              "      height: 32px;\n",
              "      padding: 0 0 0 0;\n",
              "      width: 32px;\n",
              "    }\n",
              "\n",
              "    .colab-df-convert:hover {\n",
              "      background-color: #E2EBFA;\n",
              "      box-shadow: 0px 1px 2px rgba(60, 64, 67, 0.3), 0px 1px 3px 1px rgba(60, 64, 67, 0.15);\n",
              "      fill: #174EA6;\n",
              "    }\n",
              "\n",
              "    .colab-df-buttons div {\n",
              "      margin-bottom: 4px;\n",
              "    }\n",
              "\n",
              "    [theme=dark] .colab-df-convert {\n",
              "      background-color: #3B4455;\n",
              "      fill: #D2E3FC;\n",
              "    }\n",
              "\n",
              "    [theme=dark] .colab-df-convert:hover {\n",
              "      background-color: #434B5C;\n",
              "      box-shadow: 0px 1px 3px 1px rgba(0, 0, 0, 0.15);\n",
              "      filter: drop-shadow(0px 1px 2px rgba(0, 0, 0, 0.3));\n",
              "      fill: #FFFFFF;\n",
              "    }\n",
              "  </style>\n",
              "\n",
              "    <script>\n",
              "      const buttonEl =\n",
              "        document.querySelector('#df-b3340fbb-0181-41a7-8e9c-320f16e5ada6 button.colab-df-convert');\n",
              "      buttonEl.style.display =\n",
              "        google.colab.kernel.accessAllowed ? 'block' : 'none';\n",
              "\n",
              "      async function convertToInteractive(key) {\n",
              "        const element = document.querySelector('#df-b3340fbb-0181-41a7-8e9c-320f16e5ada6');\n",
              "        const dataTable =\n",
              "          await google.colab.kernel.invokeFunction('convertToInteractive',\n",
              "                                                    [key], {});\n",
              "        if (!dataTable) return;\n",
              "\n",
              "        const docLinkHtml = 'Like what you see? Visit the ' +\n",
              "          '<a target=\"_blank\" href=https://colab.research.google.com/notebooks/data_table.ipynb>data table notebook</a>'\n",
              "          + ' to learn more about interactive tables.';\n",
              "        element.innerHTML = '';\n",
              "        dataTable['output_type'] = 'display_data';\n",
              "        await google.colab.output.renderOutput(dataTable, element);\n",
              "        const docLink = document.createElement('div');\n",
              "        docLink.innerHTML = docLinkHtml;\n",
              "        element.appendChild(docLink);\n",
              "      }\n",
              "    </script>\n",
              "  </div>\n",
              "\n",
              "\n",
              "<div id=\"df-31274118-6697-419f-bd94-1c3b815c3070\">\n",
              "  <button class=\"colab-df-quickchart\" onclick=\"quickchart('df-31274118-6697-419f-bd94-1c3b815c3070')\"\n",
              "            title=\"Suggest charts\"\n",
              "            style=\"display:none;\">\n",
              "\n",
              "<svg xmlns=\"http://www.w3.org/2000/svg\" height=\"24px\"viewBox=\"0 0 24 24\"\n",
              "     width=\"24px\">\n",
              "    <g>\n",
              "        <path d=\"M19 3H5c-1.1 0-2 .9-2 2v14c0 1.1.9 2 2 2h14c1.1 0 2-.9 2-2V5c0-1.1-.9-2-2-2zM9 17H7v-7h2v7zm4 0h-2V7h2v10zm4 0h-2v-4h2v4z\"/>\n",
              "    </g>\n",
              "</svg>\n",
              "  </button>\n",
              "\n",
              "<style>\n",
              "  .colab-df-quickchart {\n",
              "      --bg-color: #E8F0FE;\n",
              "      --fill-color: #1967D2;\n",
              "      --hover-bg-color: #E2EBFA;\n",
              "      --hover-fill-color: #174EA6;\n",
              "      --disabled-fill-color: #AAA;\n",
              "      --disabled-bg-color: #DDD;\n",
              "  }\n",
              "\n",
              "  [theme=dark] .colab-df-quickchart {\n",
              "      --bg-color: #3B4455;\n",
              "      --fill-color: #D2E3FC;\n",
              "      --hover-bg-color: #434B5C;\n",
              "      --hover-fill-color: #FFFFFF;\n",
              "      --disabled-bg-color: #3B4455;\n",
              "      --disabled-fill-color: #666;\n",
              "  }\n",
              "\n",
              "  .colab-df-quickchart {\n",
              "    background-color: var(--bg-color);\n",
              "    border: none;\n",
              "    border-radius: 50%;\n",
              "    cursor: pointer;\n",
              "    display: none;\n",
              "    fill: var(--fill-color);\n",
              "    height: 32px;\n",
              "    padding: 0;\n",
              "    width: 32px;\n",
              "  }\n",
              "\n",
              "  .colab-df-quickchart:hover {\n",
              "    background-color: var(--hover-bg-color);\n",
              "    box-shadow: 0 1px 2px rgba(60, 64, 67, 0.3), 0 1px 3px 1px rgba(60, 64, 67, 0.15);\n",
              "    fill: var(--button-hover-fill-color);\n",
              "  }\n",
              "\n",
              "  .colab-df-quickchart-complete:disabled,\n",
              "  .colab-df-quickchart-complete:disabled:hover {\n",
              "    background-color: var(--disabled-bg-color);\n",
              "    fill: var(--disabled-fill-color);\n",
              "    box-shadow: none;\n",
              "  }\n",
              "\n",
              "  .colab-df-spinner {\n",
              "    border: 2px solid var(--fill-color);\n",
              "    border-color: transparent;\n",
              "    border-bottom-color: var(--fill-color);\n",
              "    animation:\n",
              "      spin 1s steps(1) infinite;\n",
              "  }\n",
              "\n",
              "  @keyframes spin {\n",
              "    0% {\n",
              "      border-color: transparent;\n",
              "      border-bottom-color: var(--fill-color);\n",
              "      border-left-color: var(--fill-color);\n",
              "    }\n",
              "    20% {\n",
              "      border-color: transparent;\n",
              "      border-left-color: var(--fill-color);\n",
              "      border-top-color: var(--fill-color);\n",
              "    }\n",
              "    30% {\n",
              "      border-color: transparent;\n",
              "      border-left-color: var(--fill-color);\n",
              "      border-top-color: var(--fill-color);\n",
              "      border-right-color: var(--fill-color);\n",
              "    }\n",
              "    40% {\n",
              "      border-color: transparent;\n",
              "      border-right-color: var(--fill-color);\n",
              "      border-top-color: var(--fill-color);\n",
              "    }\n",
              "    60% {\n",
              "      border-color: transparent;\n",
              "      border-right-color: var(--fill-color);\n",
              "    }\n",
              "    80% {\n",
              "      border-color: transparent;\n",
              "      border-right-color: var(--fill-color);\n",
              "      border-bottom-color: var(--fill-color);\n",
              "    }\n",
              "    90% {\n",
              "      border-color: transparent;\n",
              "      border-bottom-color: var(--fill-color);\n",
              "    }\n",
              "  }\n",
              "</style>\n",
              "\n",
              "  <script>\n",
              "    async function quickchart(key) {\n",
              "      const quickchartButtonEl =\n",
              "        document.querySelector('#' + key + ' button');\n",
              "      quickchartButtonEl.disabled = true;  // To prevent multiple clicks.\n",
              "      quickchartButtonEl.classList.add('colab-df-spinner');\n",
              "      try {\n",
              "        const charts = await google.colab.kernel.invokeFunction(\n",
              "            'suggestCharts', [key], {});\n",
              "      } catch (error) {\n",
              "        console.error('Error during call to suggestCharts:', error);\n",
              "      }\n",
              "      quickchartButtonEl.classList.remove('colab-df-spinner');\n",
              "      quickchartButtonEl.classList.add('colab-df-quickchart-complete');\n",
              "    }\n",
              "    (() => {\n",
              "      let quickchartButtonEl =\n",
              "        document.querySelector('#df-31274118-6697-419f-bd94-1c3b815c3070 button');\n",
              "      quickchartButtonEl.style.display =\n",
              "        google.colab.kernel.accessAllowed ? 'block' : 'none';\n",
              "    })();\n",
              "  </script>\n",
              "</div>\n",
              "\n",
              "    </div>\n",
              "  </div>\n"
            ],
            "application/vnd.google.colaboratory.intrinsic+json": {
              "type": "dataframe",
              "variable_name": "df"
            }
          },
          "metadata": {},
          "execution_count": 661
        }
      ]
    },
    {
      "cell_type": "code",
      "source": [
        "print(df.shape) # (rows, columns)"
      ],
      "metadata": {
        "colab": {
          "base_uri": "https://localhost:8080/"
        },
        "id": "uDG-Uv90ErEn",
        "outputId": "a5116f45-a59e-4079-a047-0f38c6e7ff01"
      },
      "execution_count": 662,
      "outputs": [
        {
          "output_type": "stream",
          "name": "stdout",
          "text": [
            "(1000, 32)\n"
          ]
        }
      ]
    },
    {
      "cell_type": "code",
      "source": [
        "print(df.describe())"
      ],
      "metadata": {
        "colab": {
          "base_uri": "https://localhost:8080/"
        },
        "id": "oxYXk9d0EyGd",
        "outputId": "30c63a09-e308-4e54-9a81-f139b4c56c19"
      },
      "execution_count": 663,
      "outputs": [
        {
          "output_type": "stream",
          "name": "stdout",
          "text": [
            "                 id  radius_mean  texture_mean  perimeter_mean    area_mean  \\\n",
            "count  1.000000e+03  1000.000000   1000.000000     1000.000000  1000.000000   \n",
            "mean   2.731363e+07    14.128353     19.286627       91.859537   653.905757   \n",
            "std    1.115664e+08     3.410973      4.388549       23.549062   336.720516   \n",
            "min    8.670000e+03     6.981000      9.702731       43.790000   143.500000   \n",
            "25%    8.708242e+05    11.707500     16.137381       75.267500   420.868556   \n",
            "50%    9.056830e+05    13.491438     18.765830       87.176827   560.096877   \n",
            "75%    8.813129e+06    16.015422     21.820069      104.365962   794.350000   \n",
            "max    9.113205e+08    28.110000     39.280000      188.500000  2501.000000   \n",
            "\n",
            "       smoothness_mean  compactness_mean  concavity_mean  concave points_mean  \\\n",
            "count      1000.000000       1000.000000     1000.000000          1000.000000   \n",
            "mean          0.095540          0.100579        0.083825             0.047031   \n",
            "std           0.013872          0.049156        0.075566             0.037582   \n",
            "min           0.051157          0.018303       -0.009911            -0.009260   \n",
            "25%           0.086151          0.064291        0.027688             0.019678   \n",
            "50%           0.095468          0.088275        0.058533             0.033132   \n",
            "75%           0.104400          0.127350        0.120948             0.068913   \n",
            "max           0.163400          0.345400        0.426800             0.201200   \n",
            "\n",
            "       symmetry_mean  ...  radius_worst  texture_worst  perimeter_worst  \\\n",
            "count    1000.000000  ...   1000.000000    1000.000000      1000.000000   \n",
            "mean        0.179746  ...     16.205607      25.596476       106.676417   \n",
            "std         0.025921  ...      4.656850       6.092681        32.441487   \n",
            "min         0.106000  ...      7.930000      12.012244        50.410000   \n",
            "25%         0.161928  ...     12.980000      20.919323        83.897546   \n",
            "50%         0.178326  ...     14.995946      25.470000        97.930000   \n",
            "75%         0.194300  ...     18.933783      29.410000       125.288589   \n",
            "max         0.304000  ...     36.040000      49.540000       251.200000   \n",
            "\n",
            "        area_worst  smoothness_worst  compactness_worst  concavity_worst  \\\n",
            "count  1000.000000       1000.000000        1000.000000      1000.000000   \n",
            "mean    870.853990          0.130646           0.243461         0.257787   \n",
            "std     538.783064          0.022009           0.145636         0.196693   \n",
            "min     185.200000          0.069257           0.022220        -0.009453   \n",
            "25%     513.105252          0.114273           0.142088         0.104461   \n",
            "50%     691.750000          0.130410           0.206484         0.220952   \n",
            "75%    1095.360492          0.145025           0.321592         0.372837   \n",
            "max    4254.000000          0.222600           1.058000         1.252000   \n",
            "\n",
            "       concave points_worst  symmetry_worst  fractal_dimension_worst  \n",
            "count           1000.000000     1000.000000              1000.000000  \n",
            "mean               0.110666        0.288075                 0.082466  \n",
            "std                0.064329        0.057403                 0.016495  \n",
            "min               -0.018268        0.156500                 0.047749  \n",
            "25%                0.061431        0.250190                 0.071260  \n",
            "50%                0.097689        0.281149                 0.079523  \n",
            "75%                0.158235        0.316155                 0.091270  \n",
            "max                0.291000        0.663800                 0.207500  \n",
            "\n",
            "[8 rows x 31 columns]\n"
          ]
        }
      ]
    },
    {
      "cell_type": "code",
      "source": [
        "print(df['diagnosis'].value_counts()) # count the number of benign and malignant cases"
      ],
      "metadata": {
        "colab": {
          "base_uri": "https://localhost:8080/"
        },
        "id": "UaQynSpnE0nn",
        "outputId": "5182a18e-ec2a-4184-8d5d-df54845a25e6"
      },
      "execution_count": 664,
      "outputs": [
        {
          "output_type": "stream",
          "name": "stdout",
          "text": [
            "diagnosis\n",
            "B    643\n",
            "M    357\n",
            "Name: count, dtype: int64\n"
          ]
        }
      ]
    },
    {
      "cell_type": "markdown",
      "source": [
        "## Separation of Characteristics and Feature"
      ],
      "metadata": {
        "id": "2ZUrCzEPcC0P"
      }
    },
    {
      "cell_type": "code",
      "source": [
        "X = df.drop(columns=['diagnosis'])\n",
        "y = df['diagnosis'] #set the diagnosis variable as the target variable"
      ],
      "metadata": {
        "id": "t2NLLv1VE-Ph"
      },
      "execution_count": 665,
      "outputs": []
    },
    {
      "cell_type": "markdown",
      "source": [
        "## Convert string labels to numeric"
      ],
      "metadata": {
        "id": "VbtDvrCvcZ7-"
      }
    },
    {
      "cell_type": "code",
      "source": [
        "le = LabelEncoder()\n",
        "y = le.fit_transform(y)  # This will convert 'B' to 0 and 'M' to 1"
      ],
      "metadata": {
        "id": "-tBaanD9E_gs"
      },
      "execution_count": 666,
      "outputs": []
    },
    {
      "cell_type": "markdown",
      "source": [
        "## Separation of dataset into training set and test set"
      ],
      "metadata": {
        "id": "dm-LoA-scgue"
      }
    },
    {
      "cell_type": "code",
      "source": [
        "X_train, X_test, y_train, y_test = train_test_split(X, y, test_size=0.2, random_state=42)"
      ],
      "metadata": {
        "id": "MSHGVU6DFCe3"
      },
      "execution_count": 667,
      "outputs": []
    },
    {
      "cell_type": "code",
      "source": [
        "scaler = StandardScaler()\n",
        "X_train = scaler.fit_transform(X_train)\n",
        "X_test = scaler.transform(X_test)"
      ],
      "metadata": {
        "id": "hDN8Jm8TFFxA"
      },
      "execution_count": 668,
      "outputs": []
    },
    {
      "cell_type": "markdown",
      "source": [
        "## Conversion of training and testing datasets from NumPy arrays (or other formats) into PyTorch tensors."
      ],
      "metadata": {
        "id": "kBms156aczi1"
      }
    },
    {
      "cell_type": "code",
      "source": [
        "X_train_tensor = torch.FloatTensor(X_train)\n",
        "X_val_tensor = torch.FloatTensor(X_test)\n",
        "y_train_tensor = torch.FloatTensor(y_train).view(-1, 1)\n",
        "y_val_tensor = torch.FloatTensor(y_test).view(-1, 1)"
      ],
      "metadata": {
        "id": "AdUCfj2hFIv8"
      },
      "execution_count": 669,
      "outputs": []
    },
    {
      "cell_type": "code",
      "source": [
        "# Create DataLoader\n",
        "train_dataset = TensorDataset(X_train_tensor, y_train_tensor)\n",
        "train_loader = DataLoader(train_dataset, batch_size=32, shuffle=True)"
      ],
      "metadata": {
        "id": "sLi-XbXegdCX"
      },
      "execution_count": 670,
      "outputs": []
    },
    {
      "cell_type": "markdown",
      "source": [
        "## Creating the neural network architecture"
      ],
      "metadata": {
        "id": "-30pwxQbc_QI"
      }
    },
    {
      "cell_type": "markdown",
      "source": [
        "This model is designed for binary classification tasks, with mechanisms for normalization and dropout to enhance training stability and reduce overfitting. The architecture consists of two hidden layers with 30 and 15 neurons, respectively, culminating in a single output neuron that produces a probability score."
      ],
      "metadata": {
        "id": "afQJjMfBdDps"
      }
    },
    {
      "cell_type": "code",
      "source": [
        "class BreastCancerModel(nn.Module):\n",
        "    def __init__(self):\n",
        "        super(BreastCancerModel, self).__init__()\n",
        "        self.fc1 = nn.Linear(X_train.shape[1], 30)\n",
        "        self.bn1 = nn.BatchNorm1d(30)\n",
        "        self.dropout1 = nn.Dropout(0.3)  # 30% dropout\n",
        "        self.fc2 = nn.Linear(30, 15)\n",
        "        self.bn2 = nn.BatchNorm1d(15)\n",
        "        self.dropout2 = nn.Dropout(0.3)  # 30% dropout\n",
        "        self.fc3 = nn.Linear(15, 1)\n",
        "        self.sigmoid = nn.Sigmoid()\n",
        "\n",
        "    def forward(self, x):\n",
        "        x = self.bn1(self.fc1(x))\n",
        "        x = torch.relu(x)\n",
        "        x = self.dropout1(x)\n",
        "        x = self.bn2(self.fc2(x))\n",
        "        x = torch.relu(x)\n",
        "        x = self.dropout2(x)\n",
        "        x = self.sigmoid(self.fc3(x))\n",
        "        return x"
      ],
      "metadata": {
        "id": "DLMHrGdGFNs8"
      },
      "execution_count": 671,
      "outputs": []
    },
    {
      "cell_type": "markdown",
      "source": [
        "## Model Initialization, Loss Function and Optimizer"
      ],
      "metadata": {
        "id": "_8LBCb7idZFw"
      }
    },
    {
      "cell_type": "markdown",
      "source": [
        "Here, we initialize the breast cancer prediction model, define the loss function for measuring performance, and set up the Adam optimizer for training the model."
      ],
      "metadata": {
        "id": "KLWE5HRBdgmQ"
      }
    },
    {
      "cell_type": "code",
      "source": [
        "model = BreastCancerModel()\n",
        "criterion = nn.BCELoss()\n",
        "optimizer = optim.Adam(model.parameters(), lr=0.001, betas=(0.9, 0.999), weight_decay=0.01)"
      ],
      "metadata": {
        "id": "-t93w2hWFhMX"
      },
      "execution_count": 672,
      "outputs": []
    },
    {
      "cell_type": "markdown",
      "source": [
        "## Training the Model"
      ],
      "metadata": {
        "id": "A6TFQx1qdl_g"
      }
    },
    {
      "cell_type": "code",
      "source": [
        "\n",
        "# Lists to store loss and accuracy for plotting\n",
        "train_losses = []\n",
        "val_losses = []\n",
        "train_accuracies = []\n",
        "val_accuracies = []\n",
        "\n",
        "# Training the model\n",
        "num_epochs = 150\n",
        "for epoch in range(num_epochs):\n",
        "    model.train()\n",
        "    epoch_loss = 0\n",
        "    correct = 0\n",
        "\n",
        "    for batch_X, batch_y in train_loader:\n",
        "        optimizer.zero_grad()\n",
        "        outputs = model(batch_X)\n",
        "        loss = criterion(outputs, batch_y)\n",
        "        loss.backward()\n",
        "        optimizer.step()\n",
        "\n",
        "        epoch_loss += loss.item()\n",
        "        predicted = (outputs >= 0.5).float()\n",
        "        correct += predicted.eq(batch_y).sum().item()\n",
        "\n",
        "    # Average training loss and accuracy\n",
        "    train_loss = epoch_loss / len(train_loader)\n",
        "    train_losses.append(train_loss)\n",
        "    train_accuracy = correct / len(train_loader.dataset)\n",
        "    train_accuracies.append(train_accuracy)\n",
        "\n",
        "    # Validate the model\n",
        "    model.eval()\n",
        "    with torch.no_grad():\n",
        "        val_outputs = model(X_val_tensor)\n",
        "        val_loss = criterion(val_outputs, y_val_tensor)\n",
        "        val_losses.append(val_loss.item())\n",
        "        val_predicted = (val_outputs >= 0.5).float()\n",
        "        val_correct = val_predicted.eq(y_val_tensor).sum().item()\n",
        "        val_accuracy = val_correct / len(y_val_tensor)\n",
        "        val_accuracies.append(val_accuracy)\n",
        "\n",
        "    # Print training and validation metrics for each epoch\n",
        "    print(f'Epoch [{epoch + 1}/{num_epochs}], Train Loss: {train_loss:.4f}, Train Accuracy: {train_accuracy:.4f}, Val Loss: {val_loss.item():.4f}, Val Accuracy: {val_accuracy:.4f}')\n",
        "\n",
        ""
      ],
      "metadata": {
        "colab": {
          "base_uri": "https://localhost:8080/"
        },
        "id": "hvRrXq3cHsMR",
        "outputId": "ace66a90-83ca-448f-c356-85eb5162bf0e"
      },
      "execution_count": 673,
      "outputs": [
        {
          "output_type": "stream",
          "name": "stdout",
          "text": [
            "Epoch [1/150], Train Loss: 0.6222, Train Accuracy: 0.7188, Val Loss: 0.5591, Val Accuracy: 0.9500\n",
            "Epoch [2/150], Train Loss: 0.5149, Train Accuracy: 0.8925, Val Loss: 0.4636, Val Accuracy: 0.9700\n",
            "Epoch [3/150], Train Loss: 0.4506, Train Accuracy: 0.9250, Val Loss: 0.3988, Val Accuracy: 0.9600\n",
            "Epoch [4/150], Train Loss: 0.4004, Train Accuracy: 0.9337, Val Loss: 0.3545, Val Accuracy: 0.9750\n",
            "Epoch [5/150], Train Loss: 0.3522, Train Accuracy: 0.9363, Val Loss: 0.3028, Val Accuracy: 0.9800\n",
            "Epoch [6/150], Train Loss: 0.3149, Train Accuracy: 0.9425, Val Loss: 0.2653, Val Accuracy: 0.9900\n",
            "Epoch [7/150], Train Loss: 0.2864, Train Accuracy: 0.9513, Val Loss: 0.2256, Val Accuracy: 0.9850\n",
            "Epoch [8/150], Train Loss: 0.2411, Train Accuracy: 0.9587, Val Loss: 0.2034, Val Accuracy: 0.9950\n",
            "Epoch [9/150], Train Loss: 0.2192, Train Accuracy: 0.9688, Val Loss: 0.1822, Val Accuracy: 0.9900\n",
            "Epoch [10/150], Train Loss: 0.2032, Train Accuracy: 0.9537, Val Loss: 0.1656, Val Accuracy: 0.9950\n",
            "Epoch [11/150], Train Loss: 0.2116, Train Accuracy: 0.9463, Val Loss: 0.1499, Val Accuracy: 0.9900\n",
            "Epoch [12/150], Train Loss: 0.1892, Train Accuracy: 0.9563, Val Loss: 0.1412, Val Accuracy: 0.9800\n",
            "Epoch [13/150], Train Loss: 0.1821, Train Accuracy: 0.9587, Val Loss: 0.1414, Val Accuracy: 0.9650\n",
            "Epoch [14/150], Train Loss: 0.1588, Train Accuracy: 0.9700, Val Loss: 0.1312, Val Accuracy: 0.9750\n",
            "Epoch [15/150], Train Loss: 0.1384, Train Accuracy: 0.9800, Val Loss: 0.1123, Val Accuracy: 0.9950\n",
            "Epoch [16/150], Train Loss: 0.1309, Train Accuracy: 0.9762, Val Loss: 0.1154, Val Accuracy: 0.9800\n",
            "Epoch [17/150], Train Loss: 0.1266, Train Accuracy: 0.9788, Val Loss: 0.1020, Val Accuracy: 0.9800\n",
            "Epoch [18/150], Train Loss: 0.1382, Train Accuracy: 0.9650, Val Loss: 0.1000, Val Accuracy: 0.9800\n",
            "Epoch [19/150], Train Loss: 0.1379, Train Accuracy: 0.9675, Val Loss: 0.0875, Val Accuracy: 0.9900\n",
            "Epoch [20/150], Train Loss: 0.1292, Train Accuracy: 0.9712, Val Loss: 0.0930, Val Accuracy: 0.9850\n",
            "Epoch [21/150], Train Loss: 0.1261, Train Accuracy: 0.9663, Val Loss: 0.0910, Val Accuracy: 0.9850\n",
            "Epoch [22/150], Train Loss: 0.1223, Train Accuracy: 0.9650, Val Loss: 0.0930, Val Accuracy: 0.9800\n",
            "Epoch [23/150], Train Loss: 0.1226, Train Accuracy: 0.9688, Val Loss: 0.0871, Val Accuracy: 0.9850\n",
            "Epoch [24/150], Train Loss: 0.1187, Train Accuracy: 0.9750, Val Loss: 0.0958, Val Accuracy: 0.9750\n",
            "Epoch [25/150], Train Loss: 0.1197, Train Accuracy: 0.9688, Val Loss: 0.0757, Val Accuracy: 0.9900\n",
            "Epoch [26/150], Train Loss: 0.1121, Train Accuracy: 0.9700, Val Loss: 0.1037, Val Accuracy: 0.9650\n",
            "Epoch [27/150], Train Loss: 0.1135, Train Accuracy: 0.9712, Val Loss: 0.0851, Val Accuracy: 0.9750\n",
            "Epoch [28/150], Train Loss: 0.1423, Train Accuracy: 0.9575, Val Loss: 0.0800, Val Accuracy: 0.9900\n",
            "Epoch [29/150], Train Loss: 0.0944, Train Accuracy: 0.9788, Val Loss: 0.0878, Val Accuracy: 0.9800\n",
            "Epoch [30/150], Train Loss: 0.1058, Train Accuracy: 0.9750, Val Loss: 0.0856, Val Accuracy: 0.9750\n",
            "Epoch [31/150], Train Loss: 0.1208, Train Accuracy: 0.9637, Val Loss: 0.0710, Val Accuracy: 0.9950\n",
            "Epoch [32/150], Train Loss: 0.1186, Train Accuracy: 0.9675, Val Loss: 0.0717, Val Accuracy: 0.9950\n",
            "Epoch [33/150], Train Loss: 0.1054, Train Accuracy: 0.9712, Val Loss: 0.0682, Val Accuracy: 0.9950\n",
            "Epoch [34/150], Train Loss: 0.1021, Train Accuracy: 0.9750, Val Loss: 0.0714, Val Accuracy: 0.9900\n",
            "Epoch [35/150], Train Loss: 0.1009, Train Accuracy: 0.9712, Val Loss: 0.0761, Val Accuracy: 0.9800\n",
            "Epoch [36/150], Train Loss: 0.1018, Train Accuracy: 0.9788, Val Loss: 0.0708, Val Accuracy: 0.9850\n",
            "Epoch [37/150], Train Loss: 0.1179, Train Accuracy: 0.9700, Val Loss: 0.0762, Val Accuracy: 0.9800\n",
            "Epoch [38/150], Train Loss: 0.0836, Train Accuracy: 0.9875, Val Loss: 0.0695, Val Accuracy: 0.9900\n",
            "Epoch [39/150], Train Loss: 0.0860, Train Accuracy: 0.9800, Val Loss: 0.0702, Val Accuracy: 0.9800\n",
            "Epoch [40/150], Train Loss: 0.0922, Train Accuracy: 0.9762, Val Loss: 0.0693, Val Accuracy: 0.9850\n",
            "Epoch [41/150], Train Loss: 0.0900, Train Accuracy: 0.9775, Val Loss: 0.0664, Val Accuracy: 0.9850\n",
            "Epoch [42/150], Train Loss: 0.0831, Train Accuracy: 0.9800, Val Loss: 0.0784, Val Accuracy: 0.9800\n",
            "Epoch [43/150], Train Loss: 0.1034, Train Accuracy: 0.9675, Val Loss: 0.0871, Val Accuracy: 0.9750\n",
            "Epoch [44/150], Train Loss: 0.0948, Train Accuracy: 0.9700, Val Loss: 0.0654, Val Accuracy: 0.9850\n",
            "Epoch [45/150], Train Loss: 0.0969, Train Accuracy: 0.9700, Val Loss: 0.0599, Val Accuracy: 0.9950\n",
            "Epoch [46/150], Train Loss: 0.0939, Train Accuracy: 0.9775, Val Loss: 0.0576, Val Accuracy: 0.9950\n",
            "Epoch [47/150], Train Loss: 0.1121, Train Accuracy: 0.9663, Val Loss: 0.0631, Val Accuracy: 0.9900\n",
            "Epoch [48/150], Train Loss: 0.0849, Train Accuracy: 0.9800, Val Loss: 0.0718, Val Accuracy: 0.9850\n",
            "Epoch [49/150], Train Loss: 0.0838, Train Accuracy: 0.9750, Val Loss: 0.0737, Val Accuracy: 0.9750\n",
            "Epoch [50/150], Train Loss: 0.1068, Train Accuracy: 0.9650, Val Loss: 0.0609, Val Accuracy: 0.9850\n",
            "Epoch [51/150], Train Loss: 0.0949, Train Accuracy: 0.9688, Val Loss: 0.0626, Val Accuracy: 0.9850\n",
            "Epoch [52/150], Train Loss: 0.0883, Train Accuracy: 0.9750, Val Loss: 0.0623, Val Accuracy: 0.9900\n",
            "Epoch [53/150], Train Loss: 0.1061, Train Accuracy: 0.9675, Val Loss: 0.0723, Val Accuracy: 0.9750\n",
            "Epoch [54/150], Train Loss: 0.0888, Train Accuracy: 0.9750, Val Loss: 0.0689, Val Accuracy: 0.9800\n",
            "Epoch [55/150], Train Loss: 0.0998, Train Accuracy: 0.9688, Val Loss: 0.0734, Val Accuracy: 0.9750\n",
            "Epoch [56/150], Train Loss: 0.0884, Train Accuracy: 0.9762, Val Loss: 0.0661, Val Accuracy: 0.9800\n",
            "Epoch [57/150], Train Loss: 0.0874, Train Accuracy: 0.9738, Val Loss: 0.0671, Val Accuracy: 0.9850\n",
            "Epoch [58/150], Train Loss: 0.0936, Train Accuracy: 0.9712, Val Loss: 0.0647, Val Accuracy: 0.9900\n",
            "Epoch [59/150], Train Loss: 0.1046, Train Accuracy: 0.9625, Val Loss: 0.0716, Val Accuracy: 0.9800\n",
            "Epoch [60/150], Train Loss: 0.0877, Train Accuracy: 0.9775, Val Loss: 0.0561, Val Accuracy: 0.9950\n",
            "Epoch [61/150], Train Loss: 0.0920, Train Accuracy: 0.9762, Val Loss: 0.0744, Val Accuracy: 0.9800\n",
            "Epoch [62/150], Train Loss: 0.0919, Train Accuracy: 0.9712, Val Loss: 0.0720, Val Accuracy: 0.9750\n",
            "Epoch [63/150], Train Loss: 0.0993, Train Accuracy: 0.9750, Val Loss: 0.0590, Val Accuracy: 0.9900\n",
            "Epoch [64/150], Train Loss: 0.0804, Train Accuracy: 0.9788, Val Loss: 0.0647, Val Accuracy: 0.9900\n",
            "Epoch [65/150], Train Loss: 0.0841, Train Accuracy: 0.9750, Val Loss: 0.0594, Val Accuracy: 0.9900\n",
            "Epoch [66/150], Train Loss: 0.0810, Train Accuracy: 0.9825, Val Loss: 0.0665, Val Accuracy: 0.9800\n",
            "Epoch [67/150], Train Loss: 0.1202, Train Accuracy: 0.9587, Val Loss: 0.0658, Val Accuracy: 0.9900\n",
            "Epoch [68/150], Train Loss: 0.0846, Train Accuracy: 0.9750, Val Loss: 0.0633, Val Accuracy: 0.9900\n",
            "Epoch [69/150], Train Loss: 0.0739, Train Accuracy: 0.9850, Val Loss: 0.0670, Val Accuracy: 0.9750\n",
            "Epoch [70/150], Train Loss: 0.0774, Train Accuracy: 0.9788, Val Loss: 0.0659, Val Accuracy: 0.9800\n",
            "Epoch [71/150], Train Loss: 0.1080, Train Accuracy: 0.9613, Val Loss: 0.0663, Val Accuracy: 0.9850\n",
            "Epoch [72/150], Train Loss: 0.0872, Train Accuracy: 0.9825, Val Loss: 0.0617, Val Accuracy: 0.9900\n",
            "Epoch [73/150], Train Loss: 0.0869, Train Accuracy: 0.9775, Val Loss: 0.0734, Val Accuracy: 0.9700\n",
            "Epoch [74/150], Train Loss: 0.0795, Train Accuracy: 0.9812, Val Loss: 0.0568, Val Accuracy: 0.9900\n",
            "Epoch [75/150], Train Loss: 0.0761, Train Accuracy: 0.9775, Val Loss: 0.0663, Val Accuracy: 0.9800\n",
            "Epoch [76/150], Train Loss: 0.1016, Train Accuracy: 0.9750, Val Loss: 0.0599, Val Accuracy: 0.9850\n",
            "Epoch [77/150], Train Loss: 0.1001, Train Accuracy: 0.9600, Val Loss: 0.0677, Val Accuracy: 0.9800\n",
            "Epoch [78/150], Train Loss: 0.0766, Train Accuracy: 0.9812, Val Loss: 0.0760, Val Accuracy: 0.9700\n",
            "Epoch [79/150], Train Loss: 0.0848, Train Accuracy: 0.9762, Val Loss: 0.0689, Val Accuracy: 0.9850\n",
            "Epoch [80/150], Train Loss: 0.1104, Train Accuracy: 0.9637, Val Loss: 0.0654, Val Accuracy: 0.9850\n",
            "Epoch [81/150], Train Loss: 0.0774, Train Accuracy: 0.9775, Val Loss: 0.0575, Val Accuracy: 0.9900\n",
            "Epoch [82/150], Train Loss: 0.0789, Train Accuracy: 0.9788, Val Loss: 0.0776, Val Accuracy: 0.9750\n",
            "Epoch [83/150], Train Loss: 0.1005, Train Accuracy: 0.9750, Val Loss: 0.0581, Val Accuracy: 0.9850\n",
            "Epoch [84/150], Train Loss: 0.0946, Train Accuracy: 0.9750, Val Loss: 0.0616, Val Accuracy: 0.9800\n",
            "Epoch [85/150], Train Loss: 0.0665, Train Accuracy: 0.9875, Val Loss: 0.0585, Val Accuracy: 0.9900\n",
            "Epoch [86/150], Train Loss: 0.0827, Train Accuracy: 0.9775, Val Loss: 0.0768, Val Accuracy: 0.9800\n",
            "Epoch [87/150], Train Loss: 0.0950, Train Accuracy: 0.9712, Val Loss: 0.0617, Val Accuracy: 0.9900\n",
            "Epoch [88/150], Train Loss: 0.0920, Train Accuracy: 0.9700, Val Loss: 0.0661, Val Accuracy: 0.9900\n",
            "Epoch [89/150], Train Loss: 0.0914, Train Accuracy: 0.9700, Val Loss: 0.0576, Val Accuracy: 0.9850\n",
            "Epoch [90/150], Train Loss: 0.0830, Train Accuracy: 0.9812, Val Loss: 0.0726, Val Accuracy: 0.9750\n",
            "Epoch [91/150], Train Loss: 0.0662, Train Accuracy: 0.9850, Val Loss: 0.0634, Val Accuracy: 0.9900\n",
            "Epoch [92/150], Train Loss: 0.0985, Train Accuracy: 0.9712, Val Loss: 0.0633, Val Accuracy: 0.9800\n",
            "Epoch [93/150], Train Loss: 0.0925, Train Accuracy: 0.9725, Val Loss: 0.0590, Val Accuracy: 0.9950\n",
            "Epoch [94/150], Train Loss: 0.0780, Train Accuracy: 0.9775, Val Loss: 0.0619, Val Accuracy: 0.9900\n",
            "Epoch [95/150], Train Loss: 0.1058, Train Accuracy: 0.9700, Val Loss: 0.0585, Val Accuracy: 0.9900\n",
            "Epoch [96/150], Train Loss: 0.0905, Train Accuracy: 0.9725, Val Loss: 0.0747, Val Accuracy: 0.9750\n",
            "Epoch [97/150], Train Loss: 0.0823, Train Accuracy: 0.9725, Val Loss: 0.0646, Val Accuracy: 0.9900\n",
            "Epoch [98/150], Train Loss: 0.0902, Train Accuracy: 0.9725, Val Loss: 0.0880, Val Accuracy: 0.9700\n",
            "Epoch [99/150], Train Loss: 0.1019, Train Accuracy: 0.9712, Val Loss: 0.0610, Val Accuracy: 0.9950\n",
            "Epoch [100/150], Train Loss: 0.0881, Train Accuracy: 0.9738, Val Loss: 0.0713, Val Accuracy: 0.9850\n",
            "Epoch [101/150], Train Loss: 0.0845, Train Accuracy: 0.9750, Val Loss: 0.0642, Val Accuracy: 0.9800\n",
            "Epoch [102/150], Train Loss: 0.0800, Train Accuracy: 0.9812, Val Loss: 0.0661, Val Accuracy: 0.9800\n",
            "Epoch [103/150], Train Loss: 0.0876, Train Accuracy: 0.9725, Val Loss: 0.0567, Val Accuracy: 0.9950\n",
            "Epoch [104/150], Train Loss: 0.0976, Train Accuracy: 0.9712, Val Loss: 0.0548, Val Accuracy: 0.9950\n",
            "Epoch [105/150], Train Loss: 0.0865, Train Accuracy: 0.9850, Val Loss: 0.0817, Val Accuracy: 0.9750\n",
            "Epoch [106/150], Train Loss: 0.0681, Train Accuracy: 0.9875, Val Loss: 0.0719, Val Accuracy: 0.9800\n",
            "Epoch [107/150], Train Loss: 0.0819, Train Accuracy: 0.9800, Val Loss: 0.0648, Val Accuracy: 0.9800\n",
            "Epoch [108/150], Train Loss: 0.0933, Train Accuracy: 0.9762, Val Loss: 0.0583, Val Accuracy: 0.9950\n",
            "Epoch [109/150], Train Loss: 0.1048, Train Accuracy: 0.9663, Val Loss: 0.0765, Val Accuracy: 0.9700\n",
            "Epoch [110/150], Train Loss: 0.0740, Train Accuracy: 0.9825, Val Loss: 0.0549, Val Accuracy: 0.9900\n",
            "Epoch [111/150], Train Loss: 0.0747, Train Accuracy: 0.9800, Val Loss: 0.0598, Val Accuracy: 0.9900\n",
            "Epoch [112/150], Train Loss: 0.0724, Train Accuracy: 0.9862, Val Loss: 0.0621, Val Accuracy: 0.9850\n",
            "Epoch [113/150], Train Loss: 0.0708, Train Accuracy: 0.9838, Val Loss: 0.0537, Val Accuracy: 0.9950\n",
            "Epoch [114/150], Train Loss: 0.0688, Train Accuracy: 0.9812, Val Loss: 0.0739, Val Accuracy: 0.9750\n",
            "Epoch [115/150], Train Loss: 0.0669, Train Accuracy: 0.9812, Val Loss: 0.0690, Val Accuracy: 0.9800\n",
            "Epoch [116/150], Train Loss: 0.0679, Train Accuracy: 0.9812, Val Loss: 0.0586, Val Accuracy: 0.9800\n",
            "Epoch [117/150], Train Loss: 0.0746, Train Accuracy: 0.9812, Val Loss: 0.0617, Val Accuracy: 0.9950\n",
            "Epoch [118/150], Train Loss: 0.0741, Train Accuracy: 0.9800, Val Loss: 0.0672, Val Accuracy: 0.9800\n",
            "Epoch [119/150], Train Loss: 0.0664, Train Accuracy: 0.9825, Val Loss: 0.0729, Val Accuracy: 0.9750\n",
            "Epoch [120/150], Train Loss: 0.0760, Train Accuracy: 0.9750, Val Loss: 0.0596, Val Accuracy: 0.9900\n",
            "Epoch [121/150], Train Loss: 0.0932, Train Accuracy: 0.9725, Val Loss: 0.0603, Val Accuracy: 0.9900\n",
            "Epoch [122/150], Train Loss: 0.0834, Train Accuracy: 0.9725, Val Loss: 0.0547, Val Accuracy: 0.9900\n",
            "Epoch [123/150], Train Loss: 0.0842, Train Accuracy: 0.9700, Val Loss: 0.0584, Val Accuracy: 0.9900\n",
            "Epoch [124/150], Train Loss: 0.0917, Train Accuracy: 0.9750, Val Loss: 0.0683, Val Accuracy: 0.9800\n",
            "Epoch [125/150], Train Loss: 0.0693, Train Accuracy: 0.9850, Val Loss: 0.0577, Val Accuracy: 0.9950\n",
            "Epoch [126/150], Train Loss: 0.0755, Train Accuracy: 0.9788, Val Loss: 0.0570, Val Accuracy: 0.9950\n",
            "Epoch [127/150], Train Loss: 0.0679, Train Accuracy: 0.9862, Val Loss: 0.0552, Val Accuracy: 0.9950\n",
            "Epoch [128/150], Train Loss: 0.0782, Train Accuracy: 0.9825, Val Loss: 0.0705, Val Accuracy: 0.9800\n",
            "Epoch [129/150], Train Loss: 0.0923, Train Accuracy: 0.9725, Val Loss: 0.0571, Val Accuracy: 0.9850\n",
            "Epoch [130/150], Train Loss: 0.0905, Train Accuracy: 0.9738, Val Loss: 0.0545, Val Accuracy: 0.9950\n",
            "Epoch [131/150], Train Loss: 0.0779, Train Accuracy: 0.9812, Val Loss: 0.0658, Val Accuracy: 0.9900\n",
            "Epoch [132/150], Train Loss: 0.0733, Train Accuracy: 0.9788, Val Loss: 0.0686, Val Accuracy: 0.9800\n",
            "Epoch [133/150], Train Loss: 0.0654, Train Accuracy: 0.9850, Val Loss: 0.0765, Val Accuracy: 0.9800\n",
            "Epoch [134/150], Train Loss: 0.0946, Train Accuracy: 0.9700, Val Loss: 0.0596, Val Accuracy: 0.9850\n",
            "Epoch [135/150], Train Loss: 0.0660, Train Accuracy: 0.9850, Val Loss: 0.0578, Val Accuracy: 0.9950\n",
            "Epoch [136/150], Train Loss: 0.0935, Train Accuracy: 0.9675, Val Loss: 0.0649, Val Accuracy: 0.9900\n",
            "Epoch [137/150], Train Loss: 0.0663, Train Accuracy: 0.9850, Val Loss: 0.0624, Val Accuracy: 0.9850\n",
            "Epoch [138/150], Train Loss: 0.0676, Train Accuracy: 0.9838, Val Loss: 0.0496, Val Accuracy: 0.9950\n",
            "Epoch [139/150], Train Loss: 0.0921, Train Accuracy: 0.9688, Val Loss: 0.0619, Val Accuracy: 0.9900\n",
            "Epoch [140/150], Train Loss: 0.0935, Train Accuracy: 0.9725, Val Loss: 0.0511, Val Accuracy: 0.9950\n",
            "Epoch [141/150], Train Loss: 0.0739, Train Accuracy: 0.9700, Val Loss: 0.0604, Val Accuracy: 0.9850\n",
            "Epoch [142/150], Train Loss: 0.0861, Train Accuracy: 0.9688, Val Loss: 0.0579, Val Accuracy: 0.9950\n",
            "Epoch [143/150], Train Loss: 0.0790, Train Accuracy: 0.9750, Val Loss: 0.0683, Val Accuracy: 0.9750\n",
            "Epoch [144/150], Train Loss: 0.0850, Train Accuracy: 0.9725, Val Loss: 0.0576, Val Accuracy: 0.9950\n",
            "Epoch [145/150], Train Loss: 0.0715, Train Accuracy: 0.9825, Val Loss: 0.0707, Val Accuracy: 0.9850\n",
            "Epoch [146/150], Train Loss: 0.0912, Train Accuracy: 0.9712, Val Loss: 0.0819, Val Accuracy: 0.9700\n",
            "Epoch [147/150], Train Loss: 0.0811, Train Accuracy: 0.9762, Val Loss: 0.0610, Val Accuracy: 0.9750\n",
            "Epoch [148/150], Train Loss: 0.0796, Train Accuracy: 0.9788, Val Loss: 0.0614, Val Accuracy: 0.9800\n",
            "Epoch [149/150], Train Loss: 0.0765, Train Accuracy: 0.9812, Val Loss: 0.0548, Val Accuracy: 0.9900\n",
            "Epoch [150/150], Train Loss: 0.0670, Train Accuracy: 0.9850, Val Loss: 0.0586, Val Accuracy: 0.9900\n"
          ]
        }
      ]
    },
    {
      "cell_type": "markdown",
      "source": [
        "This code segment trains the deep learning model for a specified number of epochs (150 in this case). During each epoch, it computes the loss and accuracy by performing forward and backward passes through the training data, updating the model's weights accordingly. The average training loss and accuracy for each epoch are stored in lists for later analysis and plotting."
      ],
      "metadata": {
        "id": "ub2ovfwi86j8"
      }
    },
    {
      "cell_type": "markdown",
      "source": [
        "## Loss Plot"
      ],
      "metadata": {
        "id": "dYwbcoWhsNXs"
      }
    },
    {
      "cell_type": "markdown",
      "source": [
        "A loss curve is a graphical representation of the loss value plotted against the number of training epochs (iterations). It typically shows two lines:\n",
        "\n",
        "**Training Loss**: The training loss generally decreases steadily as training progresses. This trend indicates that the model is successfully learning from the training data.\n",
        "\n",
        "**Validation Loss**: The validation loss initially decreases alongside the training loss, indicating that the model is generalizing well to the validation dataset.\n",
        "After a certain number of epochs, however, the validation loss may start to increase while the training loss continues to decrease. This divergence is a key indicator of overfitting."
      ],
      "metadata": {
        "id": "pVn3n0szs2OV"
      }
    },
    {
      "cell_type": "code",
      "source": [
        "# Loss Plot\n",
        "plt.figure(figsize=(12, 5))\n",
        "plt.subplot(1, 2, 1)\n",
        "plt.plot(train_losses, label='Training Loss', color='blue')\n",
        "plt.plot(val_losses, label='Validation Loss', color='orange')\n",
        "plt.title('Training vs Validation Loss')\n",
        "plt.xlabel('Epochs')\n",
        "plt.ylabel('Loss')\n",
        "plt.legend()\n",
        "\n"
      ],
      "metadata": {
        "colab": {
          "base_uri": "https://localhost:8080/",
          "height": 504
        },
        "id": "tfYy6zoJH_bx",
        "outputId": "b3f4d5a0-edb9-4c16-ce7a-32f866858d3e"
      },
      "execution_count": 674,
      "outputs": [
        {
          "output_type": "execute_result",
          "data": {
            "text/plain": [
              "<matplotlib.legend.Legend at 0x7adc01845dd0>"
            ]
          },
          "metadata": {},
          "execution_count": 674
        },
        {
          "output_type": "display_data",
          "data": {
            "text/plain": [
              "<Figure size 1200x500 with 1 Axes>"
            ],
            "image/png": "[encoded data removed]"
          },
          "metadata": {}
        }
      ]
    },
    {
      "cell_type": "markdown",
      "source": [
        "We can see that our model is not overfitting since both curves are decreasing and almost converge to the same value"
      ],
      "metadata": {
        "id": "CBD8h4Wt7RnS"
      }
    },
    {
      "cell_type": "markdown",
      "source": [
        "## Accuracy plot"
      ],
      "metadata": {
        "id": "bSI0iucmsUei"
      }
    },
    {
      "cell_type": "code",
      "source": [
        "# Accuracy Plot\n",
        "plt.subplot(1, 2, 2)\n",
        "plt.plot(train_accuracies, label='Training Accuracy', color='blue')\n",
        "plt.plot(val_accuracies, label='Validation Accuracy', color='orange')\n",
        "plt.title('Training vs Validation Accuracy')\n",
        "plt.xlabel('Epochs')\n",
        "plt.ylabel('Accuracy')\n",
        "plt.legend()\n",
        "\n",
        "plt.tight_layout()\n",
        "plt.show()"
      ],
      "metadata": {
        "colab": {
          "base_uri": "https://localhost:8080/",
          "height": 487
        },
        "id": "PiAvU0hVIKgA",
        "outputId": "0399791e-2050-4bf8-e368-ceeb86862243"
      },
      "execution_count": 675,
      "outputs": [
        {
          "output_type": "display_data",
          "data": {
            "text/plain": [
              "<Figure size 640x480 with 1 Axes>"
            ],
            "image/png": "[encoded data removed]"
          },
          "metadata": {}
        }
      ]
    },
    {
      "cell_type": "markdown",
      "source": [
        "## Evaluation of the model"
      ],
      "metadata": {
        "id": "twB61pQAscJ1"
      }
    },
    {
      "cell_type": "code",
      "source": [
        "from sklearn.metrics import precision_score, recall_score, f1_score\n",
        "# Evaluate the model\n",
        "model.eval()\n",
        "with torch.no_grad():\n",
        "    test_outputs = model(X_val_tensor)\n",
        "    predicted = (test_outputs >= 0.5).float()\n",
        "    accuracy = (predicted.eq(y_val_tensor).sum() / y_val_tensor.size(0)).item()\n",
        "    # Calculate precision, recall, and F1 score\n",
        "    precision = precision_score(y_val_tensor.numpy(), predicted.numpy())\n",
        "    recall = recall_score(y_val_tensor.numpy(), predicted.numpy())\n",
        "    f1 = f1_score(y_val_tensor.numpy(), predicted.numpy())\n",
        "\n",
        "# Print test accuracy and additional metrics\n",
        "print(f'Test Accuracy: {accuracy * 100:.2f}%')\n",
        "print(f'Precision: {precision:.2f}')\n",
        "print(f'Recall: {recall:.2f}')\n",
        "print(f'F1 Score: {f1:.2f}')\n",
        "# Print test accuracy\n",
        "#print(f'Test Accuracy: {accuracy * 100:.2f}%')\n",
        "\n",
        "from sklearn.metrics import confusion_matrix\n",
        "import seaborn as sns\n",
        "import matplotlib.pyplot as plt\n",
        "\n",
        "cm = confusion_matrix(y_val_tensor.numpy(), predicted.numpy())\n",
        "sns.heatmap(cm, annot=True, fmt='d', cmap='Blues')\n",
        "plt.xlabel('Predicted')\n",
        "plt.ylabel('True')\n",
        "plt.title('Confusion Matrix')\n",
        "plt.show()"
      ],
      "metadata": {
        "colab": {
          "base_uri": "https://localhost:8080/",
          "height": 541
        },
        "id": "W8pZVRRhISPW",
        "outputId": "48417360-cade-4433-d6d6-d87852a83a9a"
      },
      "execution_count": 676,
      "outputs": [
        {
          "output_type": "stream",
          "name": "stdout",
          "text": [
            "Test Accuracy: 99.00%\n",
            "Precision: 1.00\n",
            "Recall: 0.97\n",
            "F1 Score: 0.98\n"
          ]
        },
        {
          "output_type": "display_data",
          "data": {
            "text/plain": [
              "<Figure size 640x480 with 2 Axes>"
            ],
            "image/png": "[encoded data removed]"
          },
          "metadata": {}
        }
      ]
    },
    {
      "cell_type": "markdown",
      "source": [
        "## Interpretation of Metrics\n",
        "\n",
        "Accuracy (99.00%):\n",
        "This means that 99% of the predictions made by the model are correct. It's a strong indicator of overall model performance, especially in a binary classification scenario.\n",
        "\n",
        "Precision (1.00):\n",
        "A precision of 1.00 indicates that every positive prediction made by the model is correct. In the context of breast cancer diagnosis, this means that when the model predicts a tumor is malignant, it is indeed malignant all the time.\n",
        "\n",
        "Recall (0.97):\n",
        "A recall of 0.97 means that the model correctly identifies 97% of all actual positive cases (malignant tumors). This is crucial for medical applications, as missing a malignant tumor can have serious consequences.\n",
        "\n",
        "F1 Score (0.98):\n",
        "The F1 score is the harmonic mean of precision and recall. An F1 score of 0.98 suggests a good balance between precision and recall, indicating that the model is both precise in its positive predictions and effective at identifying positive cases.\n",
        "\n",
        "Our model has an overall good performance based on the accuracy, F1 score, precision and recall"
      ],
      "metadata": {
        "id": "TCX2hX9z7h3s"
      }
    },
    {
      "cell_type": "markdown",
      "source": [
        "## Saving the Model"
      ],
      "metadata": {
        "id": "B2NEdG0q7uWy"
      }
    },
    {
      "cell_type": "markdown",
      "source": [
        "To export a trained PyTorch model, we save its state dictionary (which contains all the parameters of the model). The model will be saved as \"breast_cancer_model.pth\""
      ],
      "metadata": {
        "id": "5H-4szjP77c5"
      }
    },
    {
      "cell_type": "code",
      "source": [
        "# Save the model's state dictionary\n",
        "torch.save(model.state_dict(), 'breast_cancer_model.pth')"
      ],
      "metadata": {
        "id": "_eJgo5vB52Ui"
      },
      "execution_count": 677,
      "outputs": []
    }
  ]
}